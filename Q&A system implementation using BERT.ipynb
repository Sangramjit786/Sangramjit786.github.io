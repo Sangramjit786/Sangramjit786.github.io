{
  "nbformat": 4,
  "nbformat_minor": 0,
  "metadata": {
    "colab": {
      "name": "Untitled.ipynb",
      "provenance": [],
      "collapsed_sections": [],
      "authorship_tag": "ABX9TyOaD54kV9J9gHUPdBB69fvD",
      "include_colab_link": true
    },
    "kernelspec": {
      "name": "python3",
      "display_name": "Python 3"
    },
    "language_info": {
      "name": "python"
    },
    "widgets": {
      "application/vnd.jupyter.widget-state+json": {
        "90a837d7fba64d66ada138c5baf5a3d1": {
          "model_module": "@jupyter-widgets/controls",
          "model_name": "HBoxModel",
          "state": {
            "_view_name": "HBoxView",
            "_dom_classes": [],
            "_model_name": "HBoxModel",
            "_view_module": "@jupyter-widgets/controls",
            "_model_module_version": "1.5.0",
            "_view_count": null,
            "_view_module_version": "1.5.0",
            "box_style": "",
            "layout": "IPY_MODEL_4c225aa58e0446d89de0cc44e9bd822e",
            "_model_module": "@jupyter-widgets/controls",
            "children": [
              "IPY_MODEL_7a2f63c564a64bb8ace0cef71c12200b",
              "IPY_MODEL_f6e518af974a4e09bb56c86df6cd1d6e"
            ]
          }
        },
        "4c225aa58e0446d89de0cc44e9bd822e": {
          "model_module": "@jupyter-widgets/base",
          "model_name": "LayoutModel",
          "state": {
            "_view_name": "LayoutView",
            "grid_template_rows": null,
            "right": null,
            "justify_content": null,
            "_view_module": "@jupyter-widgets/base",
            "overflow": null,
            "_model_module_version": "1.2.0",
            "_view_count": null,
            "flex_flow": null,
            "width": null,
            "min_width": null,
            "border": null,
            "align_items": null,
            "bottom": null,
            "_model_module": "@jupyter-widgets/base",
            "top": null,
            "grid_column": null,
            "overflow_y": null,
            "overflow_x": null,
            "grid_auto_flow": null,
            "grid_area": null,
            "grid_template_columns": null,
            "flex": null,
            "_model_name": "LayoutModel",
            "justify_items": null,
            "grid_row": null,
            "max_height": null,
            "align_content": null,
            "visibility": null,
            "align_self": null,
            "height": null,
            "min_height": null,
            "padding": null,
            "grid_auto_rows": null,
            "grid_gap": null,
            "max_width": null,
            "order": null,
            "_view_module_version": "1.2.0",
            "grid_template_areas": null,
            "object_position": null,
            "object_fit": null,
            "grid_auto_columns": null,
            "margin": null,
            "display": null,
            "left": null
          }
        },
        "7a2f63c564a64bb8ace0cef71c12200b": {
          "model_module": "@jupyter-widgets/controls",
          "model_name": "FloatProgressModel",
          "state": {
            "_view_name": "ProgressView",
            "style": "IPY_MODEL_851c07a4ae044845b664bbc5f3e0be25",
            "_dom_classes": [],
            "description": "Downloading: 100%",
            "_model_name": "FloatProgressModel",
            "bar_style": "success",
            "max": 443,
            "_view_module": "@jupyter-widgets/controls",
            "_model_module_version": "1.5.0",
            "value": 443,
            "_view_count": null,
            "_view_module_version": "1.5.0",
            "orientation": "horizontal",
            "min": 0,
            "description_tooltip": null,
            "_model_module": "@jupyter-widgets/controls",
            "layout": "IPY_MODEL_62be82b7d299410396653db48050b8ac"
          }
        },
        "f6e518af974a4e09bb56c86df6cd1d6e": {
          "model_module": "@jupyter-widgets/controls",
          "model_name": "HTMLModel",
          "state": {
            "_view_name": "HTMLView",
            "style": "IPY_MODEL_08ebfe76f2ed43f9acde9a1fdb35cd4b",
            "_dom_classes": [],
            "description": "",
            "_model_name": "HTMLModel",
            "placeholder": "​",
            "_view_module": "@jupyter-widgets/controls",
            "_model_module_version": "1.5.0",
            "value": " 443/443 [00:00&lt;00:00, 1.11kB/s]",
            "_view_count": null,
            "_view_module_version": "1.5.0",
            "description_tooltip": null,
            "_model_module": "@jupyter-widgets/controls",
            "layout": "IPY_MODEL_ed7cec25d5af4afc84142bbbab1dee02"
          }
        },
        "851c07a4ae044845b664bbc5f3e0be25": {
          "model_module": "@jupyter-widgets/controls",
          "model_name": "ProgressStyleModel",
          "state": {
            "_view_name": "StyleView",
            "_model_name": "ProgressStyleModel",
            "description_width": "initial",
            "_view_module": "@jupyter-widgets/base",
            "_model_module_version": "1.5.0",
            "_view_count": null,
            "_view_module_version": "1.2.0",
            "bar_color": null,
            "_model_module": "@jupyter-widgets/controls"
          }
        },
        "62be82b7d299410396653db48050b8ac": {
          "model_module": "@jupyter-widgets/base",
          "model_name": "LayoutModel",
          "state": {
            "_view_name": "LayoutView",
            "grid_template_rows": null,
            "right": null,
            "justify_content": null,
            "_view_module": "@jupyter-widgets/base",
            "overflow": null,
            "_model_module_version": "1.2.0",
            "_view_count": null,
            "flex_flow": null,
            "width": null,
            "min_width": null,
            "border": null,
            "align_items": null,
            "bottom": null,
            "_model_module": "@jupyter-widgets/base",
            "top": null,
            "grid_column": null,
            "overflow_y": null,
            "overflow_x": null,
            "grid_auto_flow": null,
            "grid_area": null,
            "grid_template_columns": null,
            "flex": null,
            "_model_name": "LayoutModel",
            "justify_items": null,
            "grid_row": null,
            "max_height": null,
            "align_content": null,
            "visibility": null,
            "align_self": null,
            "height": null,
            "min_height": null,
            "padding": null,
            "grid_auto_rows": null,
            "grid_gap": null,
            "max_width": null,
            "order": null,
            "_view_module_version": "1.2.0",
            "grid_template_areas": null,
            "object_position": null,
            "object_fit": null,
            "grid_auto_columns": null,
            "margin": null,
            "display": null,
            "left": null
          }
        },
        "08ebfe76f2ed43f9acde9a1fdb35cd4b": {
          "model_module": "@jupyter-widgets/controls",
          "model_name": "DescriptionStyleModel",
          "state": {
            "_view_name": "StyleView",
            "_model_name": "DescriptionStyleModel",
            "description_width": "",
            "_view_module": "@jupyter-widgets/base",
            "_model_module_version": "1.5.0",
            "_view_count": null,
            "_view_module_version": "1.2.0",
            "_model_module": "@jupyter-widgets/controls"
          }
        },
        "ed7cec25d5af4afc84142bbbab1dee02": {
          "model_module": "@jupyter-widgets/base",
          "model_name": "LayoutModel",
          "state": {
            "_view_name": "LayoutView",
            "grid_template_rows": null,
            "right": null,
            "justify_content": null,
            "_view_module": "@jupyter-widgets/base",
            "overflow": null,
            "_model_module_version": "1.2.0",
            "_view_count": null,
            "flex_flow": null,
            "width": null,
            "min_width": null,
            "border": null,
            "align_items": null,
            "bottom": null,
            "_model_module": "@jupyter-widgets/base",
            "top": null,
            "grid_column": null,
            "overflow_y": null,
            "overflow_x": null,
            "grid_auto_flow": null,
            "grid_area": null,
            "grid_template_columns": null,
            "flex": null,
            "_model_name": "LayoutModel",
            "justify_items": null,
            "grid_row": null,
            "max_height": null,
            "align_content": null,
            "visibility": null,
            "align_self": null,
            "height": null,
            "min_height": null,
            "padding": null,
            "grid_auto_rows": null,
            "grid_gap": null,
            "max_width": null,
            "order": null,
            "_view_module_version": "1.2.0",
            "grid_template_areas": null,
            "object_position": null,
            "object_fit": null,
            "grid_auto_columns": null,
            "margin": null,
            "display": null,
            "left": null
          }
        },
        "252477f6017447919b8f3182b0b938cd": {
          "model_module": "@jupyter-widgets/controls",
          "model_name": "HBoxModel",
          "state": {
            "_view_name": "HBoxView",
            "_dom_classes": [],
            "_model_name": "HBoxModel",
            "_view_module": "@jupyter-widgets/controls",
            "_model_module_version": "1.5.0",
            "_view_count": null,
            "_view_module_version": "1.5.0",
            "box_style": "",
            "layout": "IPY_MODEL_b45d4dfc35724666bb22abc443d19a8c",
            "_model_module": "@jupyter-widgets/controls",
            "children": [
              "IPY_MODEL_47c00dfb9a1e4a50bde7a39df29bb9f0",
              "IPY_MODEL_24db45814abd49fbb1b53e8f39884db0"
            ]
          }
        },
        "b45d4dfc35724666bb22abc443d19a8c": {
          "model_module": "@jupyter-widgets/base",
          "model_name": "LayoutModel",
          "state": {
            "_view_name": "LayoutView",
            "grid_template_rows": null,
            "right": null,
            "justify_content": null,
            "_view_module": "@jupyter-widgets/base",
            "overflow": null,
            "_model_module_version": "1.2.0",
            "_view_count": null,
            "flex_flow": null,
            "width": null,
            "min_width": null,
            "border": null,
            "align_items": null,
            "bottom": null,
            "_model_module": "@jupyter-widgets/base",
            "top": null,
            "grid_column": null,
            "overflow_y": null,
            "overflow_x": null,
            "grid_auto_flow": null,
            "grid_area": null,
            "grid_template_columns": null,
            "flex": null,
            "_model_name": "LayoutModel",
            "justify_items": null,
            "grid_row": null,
            "max_height": null,
            "align_content": null,
            "visibility": null,
            "align_self": null,
            "height": null,
            "min_height": null,
            "padding": null,
            "grid_auto_rows": null,
            "grid_gap": null,
            "max_width": null,
            "order": null,
            "_view_module_version": "1.2.0",
            "grid_template_areas": null,
            "object_position": null,
            "object_fit": null,
            "grid_auto_columns": null,
            "margin": null,
            "display": null,
            "left": null
          }
        },
        "47c00dfb9a1e4a50bde7a39df29bb9f0": {
          "model_module": "@jupyter-widgets/controls",
          "model_name": "FloatProgressModel",
          "state": {
            "_view_name": "ProgressView",
            "style": "IPY_MODEL_90aa4d6c00904a7f93fdfb082ed3addf",
            "_dom_classes": [],
            "description": "Downloading: 100%",
            "_model_name": "FloatProgressModel",
            "bar_style": "success",
            "max": 1340675298,
            "_view_module": "@jupyter-widgets/controls",
            "_model_module_version": "1.5.0",
            "value": 1340675298,
            "_view_count": null,
            "_view_module_version": "1.5.0",
            "orientation": "horizontal",
            "min": 0,
            "description_tooltip": null,
            "_model_module": "@jupyter-widgets/controls",
            "layout": "IPY_MODEL_ae92207fc46f466780486bb64de92f2c"
          }
        },
        "24db45814abd49fbb1b53e8f39884db0": {
          "model_module": "@jupyter-widgets/controls",
          "model_name": "HTMLModel",
          "state": {
            "_view_name": "HTMLView",
            "style": "IPY_MODEL_573245d907c74b62a84dc8e8163fa8c8",
            "_dom_classes": [],
            "description": "",
            "_model_name": "HTMLModel",
            "placeholder": "​",
            "_view_module": "@jupyter-widgets/controls",
            "_model_module_version": "1.5.0",
            "value": " 1.34G/1.34G [00:38&lt;00:00, 34.9MB/s]",
            "_view_count": null,
            "_view_module_version": "1.5.0",
            "description_tooltip": null,
            "_model_module": "@jupyter-widgets/controls",
            "layout": "IPY_MODEL_afa0312dde344e069a3f2852cf0071da"
          }
        },
        "90aa4d6c00904a7f93fdfb082ed3addf": {
          "model_module": "@jupyter-widgets/controls",
          "model_name": "ProgressStyleModel",
          "state": {
            "_view_name": "StyleView",
            "_model_name": "ProgressStyleModel",
            "description_width": "initial",
            "_view_module": "@jupyter-widgets/base",
            "_model_module_version": "1.5.0",
            "_view_count": null,
            "_view_module_version": "1.2.0",
            "bar_color": null,
            "_model_module": "@jupyter-widgets/controls"
          }
        },
        "ae92207fc46f466780486bb64de92f2c": {
          "model_module": "@jupyter-widgets/base",
          "model_name": "LayoutModel",
          "state": {
            "_view_name": "LayoutView",
            "grid_template_rows": null,
            "right": null,
            "justify_content": null,
            "_view_module": "@jupyter-widgets/base",
            "overflow": null,
            "_model_module_version": "1.2.0",
            "_view_count": null,
            "flex_flow": null,
            "width": null,
            "min_width": null,
            "border": null,
            "align_items": null,
            "bottom": null,
            "_model_module": "@jupyter-widgets/base",
            "top": null,
            "grid_column": null,
            "overflow_y": null,
            "overflow_x": null,
            "grid_auto_flow": null,
            "grid_area": null,
            "grid_template_columns": null,
            "flex": null,
            "_model_name": "LayoutModel",
            "justify_items": null,
            "grid_row": null,
            "max_height": null,
            "align_content": null,
            "visibility": null,
            "align_self": null,
            "height": null,
            "min_height": null,
            "padding": null,
            "grid_auto_rows": null,
            "grid_gap": null,
            "max_width": null,
            "order": null,
            "_view_module_version": "1.2.0",
            "grid_template_areas": null,
            "object_position": null,
            "object_fit": null,
            "grid_auto_columns": null,
            "margin": null,
            "display": null,
            "left": null
          }
        },
        "573245d907c74b62a84dc8e8163fa8c8": {
          "model_module": "@jupyter-widgets/controls",
          "model_name": "DescriptionStyleModel",
          "state": {
            "_view_name": "StyleView",
            "_model_name": "DescriptionStyleModel",
            "description_width": "",
            "_view_module": "@jupyter-widgets/base",
            "_model_module_version": "1.5.0",
            "_view_count": null,
            "_view_module_version": "1.2.0",
            "_model_module": "@jupyter-widgets/controls"
          }
        },
        "afa0312dde344e069a3f2852cf0071da": {
          "model_module": "@jupyter-widgets/base",
          "model_name": "LayoutModel",
          "state": {
            "_view_name": "LayoutView",
            "grid_template_rows": null,
            "right": null,
            "justify_content": null,
            "_view_module": "@jupyter-widgets/base",
            "overflow": null,
            "_model_module_version": "1.2.0",
            "_view_count": null,
            "flex_flow": null,
            "width": null,
            "min_width": null,
            "border": null,
            "align_items": null,
            "bottom": null,
            "_model_module": "@jupyter-widgets/base",
            "top": null,
            "grid_column": null,
            "overflow_y": null,
            "overflow_x": null,
            "grid_auto_flow": null,
            "grid_area": null,
            "grid_template_columns": null,
            "flex": null,
            "_model_name": "LayoutModel",
            "justify_items": null,
            "grid_row": null,
            "max_height": null,
            "align_content": null,
            "visibility": null,
            "align_self": null,
            "height": null,
            "min_height": null,
            "padding": null,
            "grid_auto_rows": null,
            "grid_gap": null,
            "max_width": null,
            "order": null,
            "_view_module_version": "1.2.0",
            "grid_template_areas": null,
            "object_position": null,
            "object_fit": null,
            "grid_auto_columns": null,
            "margin": null,
            "display": null,
            "left": null
          }
        },
        "654afac292844391b3283f15c5412bc8": {
          "model_module": "@jupyter-widgets/controls",
          "model_name": "HBoxModel",
          "state": {
            "_view_name": "HBoxView",
            "_dom_classes": [],
            "_model_name": "HBoxModel",
            "_view_module": "@jupyter-widgets/controls",
            "_model_module_version": "1.5.0",
            "_view_count": null,
            "_view_module_version": "1.5.0",
            "box_style": "",
            "layout": "IPY_MODEL_ffd56d8d31934f46821e0e76fcc996e3",
            "_model_module": "@jupyter-widgets/controls",
            "children": [
              "IPY_MODEL_57b5a58c8df747d3b1466ef1dc8e20b8",
              "IPY_MODEL_95f9b26e3a1b4523860933e9c0762f33"
            ]
          }
        },
        "ffd56d8d31934f46821e0e76fcc996e3": {
          "model_module": "@jupyter-widgets/base",
          "model_name": "LayoutModel",
          "state": {
            "_view_name": "LayoutView",
            "grid_template_rows": null,
            "right": null,
            "justify_content": null,
            "_view_module": "@jupyter-widgets/base",
            "overflow": null,
            "_model_module_version": "1.2.0",
            "_view_count": null,
            "flex_flow": null,
            "width": null,
            "min_width": null,
            "border": null,
            "align_items": null,
            "bottom": null,
            "_model_module": "@jupyter-widgets/base",
            "top": null,
            "grid_column": null,
            "overflow_y": null,
            "overflow_x": null,
            "grid_auto_flow": null,
            "grid_area": null,
            "grid_template_columns": null,
            "flex": null,
            "_model_name": "LayoutModel",
            "justify_items": null,
            "grid_row": null,
            "max_height": null,
            "align_content": null,
            "visibility": null,
            "align_self": null,
            "height": null,
            "min_height": null,
            "padding": null,
            "grid_auto_rows": null,
            "grid_gap": null,
            "max_width": null,
            "order": null,
            "_view_module_version": "1.2.0",
            "grid_template_areas": null,
            "object_position": null,
            "object_fit": null,
            "grid_auto_columns": null,
            "margin": null,
            "display": null,
            "left": null
          }
        },
        "57b5a58c8df747d3b1466ef1dc8e20b8": {
          "model_module": "@jupyter-widgets/controls",
          "model_name": "FloatProgressModel",
          "state": {
            "_view_name": "ProgressView",
            "style": "IPY_MODEL_75b9492bfe1549a9a7a4122fea46570e",
            "_dom_classes": [],
            "description": "Downloading: 100%",
            "_model_name": "FloatProgressModel",
            "bar_style": "success",
            "max": 231508,
            "_view_module": "@jupyter-widgets/controls",
            "_model_module_version": "1.5.0",
            "value": 231508,
            "_view_count": null,
            "_view_module_version": "1.5.0",
            "orientation": "horizontal",
            "min": 0,
            "description_tooltip": null,
            "_model_module": "@jupyter-widgets/controls",
            "layout": "IPY_MODEL_3968514c6bc546b2ad3c4580f9be37a0"
          }
        },
        "95f9b26e3a1b4523860933e9c0762f33": {
          "model_module": "@jupyter-widgets/controls",
          "model_name": "HTMLModel",
          "state": {
            "_view_name": "HTMLView",
            "style": "IPY_MODEL_e04730a86993415f88b973f81562c39a",
            "_dom_classes": [],
            "description": "",
            "_model_name": "HTMLModel",
            "placeholder": "​",
            "_view_module": "@jupyter-widgets/controls",
            "_model_module_version": "1.5.0",
            "value": " 232k/232k [00:00&lt;00:00, 2.44MB/s]",
            "_view_count": null,
            "_view_module_version": "1.5.0",
            "description_tooltip": null,
            "_model_module": "@jupyter-widgets/controls",
            "layout": "IPY_MODEL_d28ffb1ca658479e9157284e20620827"
          }
        },
        "75b9492bfe1549a9a7a4122fea46570e": {
          "model_module": "@jupyter-widgets/controls",
          "model_name": "ProgressStyleModel",
          "state": {
            "_view_name": "StyleView",
            "_model_name": "ProgressStyleModel",
            "description_width": "initial",
            "_view_module": "@jupyter-widgets/base",
            "_model_module_version": "1.5.0",
            "_view_count": null,
            "_view_module_version": "1.2.0",
            "bar_color": null,
            "_model_module": "@jupyter-widgets/controls"
          }
        },
        "3968514c6bc546b2ad3c4580f9be37a0": {
          "model_module": "@jupyter-widgets/base",
          "model_name": "LayoutModel",
          "state": {
            "_view_name": "LayoutView",
            "grid_template_rows": null,
            "right": null,
            "justify_content": null,
            "_view_module": "@jupyter-widgets/base",
            "overflow": null,
            "_model_module_version": "1.2.0",
            "_view_count": null,
            "flex_flow": null,
            "width": null,
            "min_width": null,
            "border": null,
            "align_items": null,
            "bottom": null,
            "_model_module": "@jupyter-widgets/base",
            "top": null,
            "grid_column": null,
            "overflow_y": null,
            "overflow_x": null,
            "grid_auto_flow": null,
            "grid_area": null,
            "grid_template_columns": null,
            "flex": null,
            "_model_name": "LayoutModel",
            "justify_items": null,
            "grid_row": null,
            "max_height": null,
            "align_content": null,
            "visibility": null,
            "align_self": null,
            "height": null,
            "min_height": null,
            "padding": null,
            "grid_auto_rows": null,
            "grid_gap": null,
            "max_width": null,
            "order": null,
            "_view_module_version": "1.2.0",
            "grid_template_areas": null,
            "object_position": null,
            "object_fit": null,
            "grid_auto_columns": null,
            "margin": null,
            "display": null,
            "left": null
          }
        },
        "e04730a86993415f88b973f81562c39a": {
          "model_module": "@jupyter-widgets/controls",
          "model_name": "DescriptionStyleModel",
          "state": {
            "_view_name": "StyleView",
            "_model_name": "DescriptionStyleModel",
            "description_width": "",
            "_view_module": "@jupyter-widgets/base",
            "_model_module_version": "1.5.0",
            "_view_count": null,
            "_view_module_version": "1.2.0",
            "_model_module": "@jupyter-widgets/controls"
          }
        },
        "d28ffb1ca658479e9157284e20620827": {
          "model_module": "@jupyter-widgets/base",
          "model_name": "LayoutModel",
          "state": {
            "_view_name": "LayoutView",
            "grid_template_rows": null,
            "right": null,
            "justify_content": null,
            "_view_module": "@jupyter-widgets/base",
            "overflow": null,
            "_model_module_version": "1.2.0",
            "_view_count": null,
            "flex_flow": null,
            "width": null,
            "min_width": null,
            "border": null,
            "align_items": null,
            "bottom": null,
            "_model_module": "@jupyter-widgets/base",
            "top": null,
            "grid_column": null,
            "overflow_y": null,
            "overflow_x": null,
            "grid_auto_flow": null,
            "grid_area": null,
            "grid_template_columns": null,
            "flex": null,
            "_model_name": "LayoutModel",
            "justify_items": null,
            "grid_row": null,
            "max_height": null,
            "align_content": null,
            "visibility": null,
            "align_self": null,
            "height": null,
            "min_height": null,
            "padding": null,
            "grid_auto_rows": null,
            "grid_gap": null,
            "max_width": null,
            "order": null,
            "_view_module_version": "1.2.0",
            "grid_template_areas": null,
            "object_position": null,
            "object_fit": null,
            "grid_auto_columns": null,
            "margin": null,
            "display": null,
            "left": null
          }
        }
      }
    }
  },
  "cells": [
    {
      "cell_type": "markdown",
      "metadata": {
        "id": "view-in-github",
        "colab_type": "text"
      },
      "source": [
        "<a href=\"https://colab.research.google.com/github/Sangramjit786/Sangramjit786.github.io/blob/master/Q%26A%20system%20implementation%20using%20BERT.ipynb\" target=\"_parent\"><img src=\"https://colab.research.google.com/assets/colab-badge.svg\" alt=\"Open In Colab\"/></a>"
      ]
    },
    {
      "cell_type": "code",
      "metadata": {
        "id": "QnUc_MoCHTu7"
      },
      "source": [
        ""
      ],
      "execution_count": null,
      "outputs": []
    },
    {
      "cell_type": "markdown",
      "metadata": {
        "id": "rgCCXCmpHU9d"
      },
      "source": [
        "# Installing current Transformer version 3.1.0\n"
      ]
    },
    {
      "cell_type": "code",
      "metadata": {
        "colab": {
          "base_uri": "https://localhost:8080/"
        },
        "id": "uYZ4kohiHur0",
        "outputId": "348bff45-d39d-405b-c35c-ff40414c84db"
      },
      "source": [
        "pip install transformers==3.1.0"
      ],
      "execution_count": 1,
      "outputs": [
        {
          "output_type": "stream",
          "text": [
            "Collecting transformers==3.1.0\n",
            "\u001b[?25l  Downloading https://files.pythonhosted.org/packages/ae/05/c8c55b600308dc04e95100dc8ad8a244dd800fe75dfafcf1d6348c6f6209/transformers-3.1.0-py3-none-any.whl (884kB)\n",
            "\r\u001b[K     |▍                               | 10kB 15.4MB/s eta 0:00:01\r\u001b[K     |▊                               | 20kB 21.5MB/s eta 0:00:01\r\u001b[K     |█▏                              | 30kB 24.7MB/s eta 0:00:01\r\u001b[K     |█▌                              | 40kB 28.1MB/s eta 0:00:01\r\u001b[K     |█▉                              | 51kB 27.3MB/s eta 0:00:01\r\u001b[K     |██▎                             | 61kB 18.5MB/s eta 0:00:01\r\u001b[K     |██▋                             | 71kB 18.4MB/s eta 0:00:01\r\u001b[K     |███                             | 81kB 17.1MB/s eta 0:00:01\r\u001b[K     |███▍                            | 92kB 18.2MB/s eta 0:00:01\r\u001b[K     |███▊                            | 102kB 18.0MB/s eta 0:00:01\r\u001b[K     |████                            | 112kB 18.0MB/s eta 0:00:01\r\u001b[K     |████▌                           | 122kB 18.0MB/s eta 0:00:01\r\u001b[K     |████▉                           | 133kB 18.0MB/s eta 0:00:01\r\u001b[K     |█████▏                          | 143kB 18.0MB/s eta 0:00:01\r\u001b[K     |█████▋                          | 153kB 18.0MB/s eta 0:00:01\r\u001b[K     |██████                          | 163kB 18.0MB/s eta 0:00:01\r\u001b[K     |██████▎                         | 174kB 18.0MB/s eta 0:00:01\r\u001b[K     |██████▊                         | 184kB 18.0MB/s eta 0:00:01\r\u001b[K     |███████                         | 194kB 18.0MB/s eta 0:00:01\r\u001b[K     |███████▍                        | 204kB 18.0MB/s eta 0:00:01\r\u001b[K     |███████▉                        | 215kB 18.0MB/s eta 0:00:01\r\u001b[K     |████████▏                       | 225kB 18.0MB/s eta 0:00:01\r\u001b[K     |████████▌                       | 235kB 18.0MB/s eta 0:00:01\r\u001b[K     |█████████                       | 245kB 18.0MB/s eta 0:00:01\r\u001b[K     |█████████▎                      | 256kB 18.0MB/s eta 0:00:01\r\u001b[K     |█████████▋                      | 266kB 18.0MB/s eta 0:00:01\r\u001b[K     |██████████                      | 276kB 18.0MB/s eta 0:00:01\r\u001b[K     |██████████▍                     | 286kB 18.0MB/s eta 0:00:01\r\u001b[K     |██████████▊                     | 296kB 18.0MB/s eta 0:00:01\r\u001b[K     |███████████▏                    | 307kB 18.0MB/s eta 0:00:01\r\u001b[K     |███████████▌                    | 317kB 18.0MB/s eta 0:00:01\r\u001b[K     |███████████▉                    | 327kB 18.0MB/s eta 0:00:01\r\u001b[K     |████████████▎                   | 337kB 18.0MB/s eta 0:00:01\r\u001b[K     |████████████▋                   | 348kB 18.0MB/s eta 0:00:01\r\u001b[K     |█████████████                   | 358kB 18.0MB/s eta 0:00:01\r\u001b[K     |█████████████▍                  | 368kB 18.0MB/s eta 0:00:01\r\u001b[K     |█████████████▊                  | 378kB 18.0MB/s eta 0:00:01\r\u001b[K     |██████████████                  | 389kB 18.0MB/s eta 0:00:01\r\u001b[K     |██████████████▌                 | 399kB 18.0MB/s eta 0:00:01\r\u001b[K     |██████████████▉                 | 409kB 18.0MB/s eta 0:00:01\r\u001b[K     |███████████████▏                | 419kB 18.0MB/s eta 0:00:01\r\u001b[K     |███████████████▋                | 430kB 18.0MB/s eta 0:00:01\r\u001b[K     |████████████████                | 440kB 18.0MB/s eta 0:00:01\r\u001b[K     |████████████████▎               | 450kB 18.0MB/s eta 0:00:01\r\u001b[K     |████████████████▊               | 460kB 18.0MB/s eta 0:00:01\r\u001b[K     |█████████████████               | 471kB 18.0MB/s eta 0:00:01\r\u001b[K     |█████████████████▍              | 481kB 18.0MB/s eta 0:00:01\r\u001b[K     |█████████████████▉              | 491kB 18.0MB/s eta 0:00:01\r\u001b[K     |██████████████████▏             | 501kB 18.0MB/s eta 0:00:01\r\u001b[K     |██████████████████▌             | 512kB 18.0MB/s eta 0:00:01\r\u001b[K     |███████████████████             | 522kB 18.0MB/s eta 0:00:01\r\u001b[K     |███████████████████▎            | 532kB 18.0MB/s eta 0:00:01\r\u001b[K     |███████████████████▋            | 542kB 18.0MB/s eta 0:00:01\r\u001b[K     |████████████████████            | 552kB 18.0MB/s eta 0:00:01\r\u001b[K     |████████████████████▍           | 563kB 18.0MB/s eta 0:00:01\r\u001b[K     |████████████████████▊           | 573kB 18.0MB/s eta 0:00:01\r\u001b[K     |█████████████████████▏          | 583kB 18.0MB/s eta 0:00:01\r\u001b[K     |█████████████████████▌          | 593kB 18.0MB/s eta 0:00:01\r\u001b[K     |█████████████████████▉          | 604kB 18.0MB/s eta 0:00:01\r\u001b[K     |██████████████████████▎         | 614kB 18.0MB/s eta 0:00:01\r\u001b[K     |██████████████████████▋         | 624kB 18.0MB/s eta 0:00:01\r\u001b[K     |███████████████████████         | 634kB 18.0MB/s eta 0:00:01\r\u001b[K     |███████████████████████▍        | 645kB 18.0MB/s eta 0:00:01\r\u001b[K     |███████████████████████▊        | 655kB 18.0MB/s eta 0:00:01\r\u001b[K     |████████████████████████        | 665kB 18.0MB/s eta 0:00:01\r\u001b[K     |████████████████████████▌       | 675kB 18.0MB/s eta 0:00:01\r\u001b[K     |████████████████████████▉       | 686kB 18.0MB/s eta 0:00:01\r\u001b[K     |█████████████████████████▏      | 696kB 18.0MB/s eta 0:00:01\r\u001b[K     |█████████████████████████▋      | 706kB 18.0MB/s eta 0:00:01\r\u001b[K     |██████████████████████████      | 716kB 18.0MB/s eta 0:00:01\r\u001b[K     |██████████████████████████▎     | 727kB 18.0MB/s eta 0:00:01\r\u001b[K     |██████████████████████████▊     | 737kB 18.0MB/s eta 0:00:01\r\u001b[K     |███████████████████████████     | 747kB 18.0MB/s eta 0:00:01\r\u001b[K     |███████████████████████████▍    | 757kB 18.0MB/s eta 0:00:01\r\u001b[K     |███████████████████████████▉    | 768kB 18.0MB/s eta 0:00:01\r\u001b[K     |████████████████████████████▏   | 778kB 18.0MB/s eta 0:00:01\r\u001b[K     |████████████████████████████▌   | 788kB 18.0MB/s eta 0:00:01\r\u001b[K     |█████████████████████████████   | 798kB 18.0MB/s eta 0:00:01\r\u001b[K     |█████████████████████████████▎  | 808kB 18.0MB/s eta 0:00:01\r\u001b[K     |█████████████████████████████▋  | 819kB 18.0MB/s eta 0:00:01\r\u001b[K     |██████████████████████████████  | 829kB 18.0MB/s eta 0:00:01\r\u001b[K     |██████████████████████████████▍ | 839kB 18.0MB/s eta 0:00:01\r\u001b[K     |██████████████████████████████▊ | 849kB 18.0MB/s eta 0:00:01\r\u001b[K     |███████████████████████████████▏| 860kB 18.0MB/s eta 0:00:01\r\u001b[K     |███████████████████████████████▌| 870kB 18.0MB/s eta 0:00:01\r\u001b[K     |███████████████████████████████▉| 880kB 18.0MB/s eta 0:00:01\r\u001b[K     |████████████████████████████████| 890kB 18.0MB/s \n",
            "\u001b[?25hRequirement already satisfied: tqdm>=4.27 in /usr/local/lib/python3.7/dist-packages (from transformers==3.1.0) (4.41.1)\n",
            "Requirement already satisfied: filelock in /usr/local/lib/python3.7/dist-packages (from transformers==3.1.0) (3.0.12)\n",
            "Requirement already satisfied: packaging in /usr/local/lib/python3.7/dist-packages (from transformers==3.1.0) (20.9)\n",
            "Requirement already satisfied: regex!=2019.12.17 in /usr/local/lib/python3.7/dist-packages (from transformers==3.1.0) (2019.12.20)\n",
            "Requirement already satisfied: numpy in /usr/local/lib/python3.7/dist-packages (from transformers==3.1.0) (1.19.5)\n",
            "Requirement already satisfied: requests in /usr/local/lib/python3.7/dist-packages (from transformers==3.1.0) (2.23.0)\n",
            "Collecting sentencepiece!=0.1.92\n",
            "\u001b[?25l  Downloading https://files.pythonhosted.org/packages/f5/99/e0808cb947ba10f575839c43e8fafc9cc44e4a7a2c8f79c60db48220a577/sentencepiece-0.1.95-cp37-cp37m-manylinux2014_x86_64.whl (1.2MB)\n",
            "\u001b[K     |████████████████████████████████| 1.2MB 44.7MB/s \n",
            "\u001b[?25hCollecting sacremoses\n",
            "\u001b[?25l  Downloading https://files.pythonhosted.org/packages/7d/34/09d19aff26edcc8eb2a01bed8e98f13a1537005d31e95233fd48216eed10/sacremoses-0.0.43.tar.gz (883kB)\n",
            "\u001b[K     |████████████████████████████████| 890kB 47.4MB/s \n",
            "\u001b[?25hCollecting tokenizers==0.8.1.rc2\n",
            "\u001b[?25l  Downloading https://files.pythonhosted.org/packages/75/26/c02ba92ecb8b780bdae4a862d351433c2912fe49469dac7f87a5c85ccca6/tokenizers-0.8.1rc2-cp37-cp37m-manylinux1_x86_64.whl (3.0MB)\n",
            "\u001b[K     |████████████████████████████████| 3.0MB 41.8MB/s \n",
            "\u001b[?25hRequirement already satisfied: pyparsing>=2.0.2 in /usr/local/lib/python3.7/dist-packages (from packaging->transformers==3.1.0) (2.4.7)\n",
            "Requirement already satisfied: chardet<4,>=3.0.2 in /usr/local/lib/python3.7/dist-packages (from requests->transformers==3.1.0) (3.0.4)\n",
            "Requirement already satisfied: urllib3!=1.25.0,!=1.25.1,<1.26,>=1.21.1 in /usr/local/lib/python3.7/dist-packages (from requests->transformers==3.1.0) (1.24.3)\n",
            "Requirement already satisfied: idna<3,>=2.5 in /usr/local/lib/python3.7/dist-packages (from requests->transformers==3.1.0) (2.10)\n",
            "Requirement already satisfied: certifi>=2017.4.17 in /usr/local/lib/python3.7/dist-packages (from requests->transformers==3.1.0) (2020.12.5)\n",
            "Requirement already satisfied: six in /usr/local/lib/python3.7/dist-packages (from sacremoses->transformers==3.1.0) (1.15.0)\n",
            "Requirement already satisfied: click in /usr/local/lib/python3.7/dist-packages (from sacremoses->transformers==3.1.0) (7.1.2)\n",
            "Requirement already satisfied: joblib in /usr/local/lib/python3.7/dist-packages (from sacremoses->transformers==3.1.0) (1.0.1)\n",
            "Building wheels for collected packages: sacremoses\n",
            "  Building wheel for sacremoses (setup.py) ... \u001b[?25l\u001b[?25hdone\n",
            "  Created wheel for sacremoses: filename=sacremoses-0.0.43-cp37-none-any.whl size=893262 sha256=a628143e5c720720a3a663f32b0e40e03de23cc86bca81973be91cd93139a8d6\n",
            "  Stored in directory: /root/.cache/pip/wheels/29/3c/fd/7ce5c3f0666dab31a50123635e6fb5e19ceb42ce38d4e58f45\n",
            "Successfully built sacremoses\n",
            "Installing collected packages: sentencepiece, sacremoses, tokenizers, transformers\n",
            "Successfully installed sacremoses-0.0.43 sentencepiece-0.1.95 tokenizers-0.8.1rc2 transformers-3.1.0\n"
          ],
          "name": "stdout"
        }
      ]
    },
    {
      "cell_type": "markdown",
      "metadata": {
        "id": "2BO59PW4H_EX"
      },
      "source": [
        "# Import packages"
      ]
    },
    {
      "cell_type": "code",
      "metadata": {
        "id": "A1sVeP76IL9C"
      },
      "source": [
        "import torch"
      ],
      "execution_count": 2,
      "outputs": []
    },
    {
      "cell_type": "code",
      "metadata": {
        "id": "1ECmijozIQBJ"
      },
      "source": [
        "from transformers import BertForQuestionAnswering"
      ],
      "execution_count": 3,
      "outputs": []
    },
    {
      "cell_type": "code",
      "metadata": {
        "id": "KZpHZjpDIbIA"
      },
      "source": [
        "from transformers import BertTokenizer"
      ],
      "execution_count": 4,
      "outputs": []
    },
    {
      "cell_type": "markdown",
      "metadata": {
        "id": "BUIIi7H6rfIt"
      },
      "source": [
        "# Model"
      ]
    },
    {
      "cell_type": "code",
      "metadata": {
        "colab": {
          "base_uri": "https://localhost:8080/",
          "height": 115,
          "referenced_widgets": [
            "90a837d7fba64d66ada138c5baf5a3d1",
            "4c225aa58e0446d89de0cc44e9bd822e",
            "7a2f63c564a64bb8ace0cef71c12200b",
            "f6e518af974a4e09bb56c86df6cd1d6e",
            "851c07a4ae044845b664bbc5f3e0be25",
            "62be82b7d299410396653db48050b8ac",
            "08ebfe76f2ed43f9acde9a1fdb35cd4b",
            "ed7cec25d5af4afc84142bbbab1dee02",
            "252477f6017447919b8f3182b0b938cd",
            "b45d4dfc35724666bb22abc443d19a8c",
            "47c00dfb9a1e4a50bde7a39df29bb9f0",
            "24db45814abd49fbb1b53e8f39884db0",
            "90aa4d6c00904a7f93fdfb082ed3addf",
            "ae92207fc46f466780486bb64de92f2c",
            "573245d907c74b62a84dc8e8163fa8c8",
            "afa0312dde344e069a3f2852cf0071da"
          ]
        },
        "id": "NjJ_muX3rhsm",
        "outputId": "8a65bc4b-999e-4033-b5dd-a9642fd924f0"
      },
      "source": [
        "model = BertForQuestionAnswering.from_pretrained('bert-large-uncased-whole-word-masking-finetuned-squad')"
      ],
      "execution_count": 5,
      "outputs": [
        {
          "output_type": "display_data",
          "data": {
            "application/vnd.jupyter.widget-view+json": {
              "model_id": "90a837d7fba64d66ada138c5baf5a3d1",
              "version_minor": 0,
              "version_major": 2
            },
            "text/plain": [
              "HBox(children=(FloatProgress(value=0.0, description='Downloading', max=443.0, style=ProgressStyle(description_…"
            ]
          },
          "metadata": {
            "tags": []
          }
        },
        {
          "output_type": "stream",
          "text": [
            "\n"
          ],
          "name": "stdout"
        },
        {
          "output_type": "display_data",
          "data": {
            "application/vnd.jupyter.widget-view+json": {
              "model_id": "252477f6017447919b8f3182b0b938cd",
              "version_minor": 0,
              "version_major": 2
            },
            "text/plain": [
              "HBox(children=(FloatProgress(value=0.0, description='Downloading', max=1340675298.0, style=ProgressStyle(descr…"
            ]
          },
          "metadata": {
            "tags": []
          }
        },
        {
          "output_type": "stream",
          "text": [
            "\n"
          ],
          "name": "stdout"
        }
      ]
    },
    {
      "cell_type": "markdown",
      "metadata": {
        "id": "HXe6tg3Nrwnp"
      },
      "source": [
        "# Tokenizer"
      ]
    },
    {
      "cell_type": "code",
      "metadata": {
        "colab": {
          "base_uri": "https://localhost:8080/",
          "height": 66,
          "referenced_widgets": [
            "654afac292844391b3283f15c5412bc8",
            "ffd56d8d31934f46821e0e76fcc996e3",
            "57b5a58c8df747d3b1466ef1dc8e20b8",
            "95f9b26e3a1b4523860933e9c0762f33",
            "75b9492bfe1549a9a7a4122fea46570e",
            "3968514c6bc546b2ad3c4580f9be37a0",
            "e04730a86993415f88b973f81562c39a",
            "d28ffb1ca658479e9157284e20620827"
          ]
        },
        "id": "hTR8AsFctz6J",
        "outputId": "2947e0c5-7b38-413a-8a3b-6b6d1e0ed4b7"
      },
      "source": [
        "tokenizer = BertTokenizer.from_pretrained('bert-large-uncased-whole-word-masking-finetuned-squad')"
      ],
      "execution_count": 6,
      "outputs": [
        {
          "output_type": "display_data",
          "data": {
            "application/vnd.jupyter.widget-view+json": {
              "model_id": "654afac292844391b3283f15c5412bc8",
              "version_minor": 0,
              "version_major": 2
            },
            "text/plain": [
              "HBox(children=(FloatProgress(value=0.0, description='Downloading', max=231508.0, style=ProgressStyle(descripti…"
            ]
          },
          "metadata": {
            "tags": []
          }
        },
        {
          "output_type": "stream",
          "text": [
            "\n"
          ],
          "name": "stdout"
        }
      ]
    },
    {
      "cell_type": "markdown",
      "metadata": {
        "id": "R1RPmEWhuFjU"
      },
      "source": [
        "# Question and Context"
      ]
    },
    {
      "cell_type": "code",
      "metadata": {
        "id": "-1h7JbsNuMNT"
      },
      "source": [
        "question = \"Due to Amphan how many people suffered of load shadding in Kolkata?\"\n",
        "\n",
        "paragraph = \"The eastern Indian city of Kolkata has been devastated by a powerful cyclone which has killed at least 84 people across India and Bangladesh.Amphan made landfall on Wednesday, lashing coastal areas with ferocious wind and rain. The storm is weakening as it moves north into Bhutan.Thousands of trees were uprooted in the gales, electricity and telephone lines brought down and houses flattened.Many of Kolkata's roads are flooded and its 14 million people without power.\"\n",
        "encoding = tokenizer.encode_plus(text=question,text_pair=paragraph)"
      ],
      "execution_count": 44,
      "outputs": []
    },
    {
      "cell_type": "code",
      "metadata": {
        "id": "QmmrDEahAjyt"
      },
      "source": [
        ""
      ],
      "execution_count": null,
      "outputs": []
    },
    {
      "cell_type": "markdown",
      "metadata": {
        "id": "yIoqcB_R06sO"
      },
      "source": [
        "# Embeddings"
      ]
    },
    {
      "cell_type": "code",
      "metadata": {
        "id": "Ud1ZRUvS098p"
      },
      "source": [
        "inputs = encoding['input_ids']  #Token embeddings\n",
        "sentence_embedding = encoding['token_type_ids']  #Segment embeddings"
      ],
      "execution_count": 45,
      "outputs": []
    },
    {
      "cell_type": "code",
      "metadata": {
        "id": "3ttkK8QD1FmF"
      },
      "source": [
        "tokens = tokenizer.convert_ids_to_tokens(inputs) #input tokens\n"
      ],
      "execution_count": 46,
      "outputs": []
    },
    {
      "cell_type": "code",
      "metadata": {
        "id": "knk-5-gT1L1e"
      },
      "source": [
        "start_scores, end_scores = model(input_ids=torch.tensor([inputs]), token_type_ids=torch.tensor([sentence_embedding]))"
      ],
      "execution_count": 47,
      "outputs": []
    },
    {
      "cell_type": "code",
      "metadata": {
        "id": "VQndOlNm1RG7"
      },
      "source": [
        "start_index = torch.argmax(start_scores)\n",
        "\n",
        "end_index = torch.argmax(end_scores)\n",
        "\n",
        "answer = ' '.join(tokens[start_index:end_index+1])"
      ],
      "execution_count": 48,
      "outputs": []
    },
    {
      "cell_type": "code",
      "metadata": {
        "id": "Iy7TqAJ71_5N"
      },
      "source": [
        "corrected_answer = ''\n",
        "\n",
        "for word in answer.split():\n",
        "    \n",
        "    \n",
        "    if word[0:2] == '##':\n",
        "        corrected_answer += word[2:]\n",
        "    else:\n",
        "        corrected_answer += ' ' + word"
      ],
      "execution_count": 49,
      "outputs": []
    },
    {
      "cell_type": "code",
      "metadata": {
        "colab": {
          "base_uri": "https://localhost:8080/"
        },
        "id": "g2f-p2ig2A84",
        "outputId": "350ceed0-3ffc-4da8-e9e6-a1c584c12f56"
      },
      "source": [
        "print(corrected_answer)"
      ],
      "execution_count": 50,
      "outputs": [
        {
          "output_type": "stream",
          "text": [
            " 14 million\n"
          ],
          "name": "stdout"
        }
      ]
    }
  ]
}